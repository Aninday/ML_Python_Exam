{
 "cells": [
  {
   "cell_type": "markdown",
   "id": "1a8e21a6",
   "metadata": {},
   "source": [
    "### 1) Write a program to count the sub_string from main string\n",
    "### Example:- A B C D C D C\n",
    "### Sub_string= C D C result =2\n"
   ]
  },
  {
   "cell_type": "code",
   "execution_count": 3,
   "id": "5e5ba3f6",
   "metadata": {},
   "outputs": [],
   "source": [
    "def count_substring(main_string, sub_string):\n",
    "    count = 0\n",
    "    sub_len = len(sub_string)\n",
    "    \n",
    "    for i in range(len(main_string) - sub_len + 1):\n",
    "        if main_string[i:i + sub_len] == sub_string:\n",
    "            count += 1\n",
    "            \n",
    "    return count"
   ]
  },
  {
   "cell_type": "code",
   "execution_count": 4,
   "id": "874e4396",
   "metadata": {},
   "outputs": [
    {
     "name": "stdout",
     "output_type": "stream",
     "text": [
      "Main string: A B C D C D C\n",
      "Sub-string: C D C\n",
      "Result: 2\n"
     ]
    }
   ],
   "source": [
    "main_string = \"A B C D C D C\"\n",
    "sub_string = \"C D C\"\n",
    "result = count_substring(main_string, sub_string)\n",
    "\n",
    "print(f\"Main string: {main_string}\")\n",
    "print(f\"Sub-string: {sub_string}\")\n",
    "print(f\"Result: {result}\")"
   ]
  },
  {
   "cell_type": "markdown",
   "id": "012bd2f8",
   "metadata": {},
   "source": [
    "### 2)\tWrite a program to take 4 number and store in list \n",
    "### [2,4,6,8] find the factorial of the each number of the list and store the value  in the list \n"
   ]
  },
  {
   "cell_type": "code",
   "execution_count": 1,
   "id": "cdbb28a6",
   "metadata": {},
   "outputs": [],
   "source": [
    "def factorial(n):\n",
    "    if n == 0 or n == 1:\n",
    "        return 1\n",
    "    else:\n",
    "        result = 1\n",
    "        for i in range(2, n + 1):\n",
    "            result *= i\n",
    "        return result"
   ]
  },
  {
   "cell_type": "code",
   "execution_count": 5,
   "id": "160e009c",
   "metadata": {},
   "outputs": [
    {
     "name": "stdout",
     "output_type": "stream",
     "text": [
      "Original numbers: [2, 4, 6, 8]\n",
      "Factorials: [2, 24, 720, 40320]\n"
     ]
    }
   ],
   "source": [
    "numbers = [2, 4, 6, 8]\n",
    "factorials = [factorial(num) for num in numbers]\n",
    "print(\"Original numbers:\", numbers)\n",
    "print(\"Factorials:\", factorials)"
   ]
  },
  {
   "cell_type": "markdown",
   "id": "f2e5bd07",
   "metadata": {},
   "source": [
    "### 3)\tCreate a strong password combining words, numbers and characters. \n",
    "### (* )Keep creating the new password until you find one you like  \n"
   ]
  },
  {
   "cell_type": "code",
   "execution_count": 1,
   "id": "f7ac6666",
   "metadata": {},
   "outputs": [],
   "source": [
    "import string\n",
    "import random"
   ]
  },
  {
   "cell_type": "code",
   "execution_count": 2,
   "id": "edfef7cb",
   "metadata": {},
   "outputs": [
    {
     "name": "stdout",
     "output_type": "stream",
     "text": [
      "Welcome to the password picker game:- \n",
      "Your password is:-  elephant37>\n",
      "Would you like another password..? type y for yes and n for noy\n",
      "Your password is:-  tiger60_\n",
      "Would you like another password..? type y for yes and n for non\n"
     ]
    }
   ],
   "source": [
    "words=['dog','cat','lion','tiger','elephant','panda']\n",
    "print(\"Welcome to the password picker game:- \")\n",
    "while True:\n",
    "    word=random.choice(words)\n",
    "    number=random.randrange(1,100)\n",
    "    scr=random.choice(string.punctuation)\n",
    "    password=word+str(number)+scr\n",
    "    print(\"Your password is:- \",password)\n",
    "    response=input(\"Would you like another password..? type y for yes and n for no\")\n",
    "    if response=='n':\n",
    "        break"
   ]
  },
  {
   "cell_type": "markdown",
   "id": "009d7659",
   "metadata": {},
   "source": [
    "### 4) Checking of the vowels inside the string"
   ]
  },
  {
   "cell_type": "code",
   "execution_count": 5,
   "id": "b7434491",
   "metadata": {},
   "outputs": [],
   "source": [
    "def checking_vowels(string,vowels):\n",
    "    string=string.casefold()\n",
    "    count={}.fromkeys(vowels,0)\n",
    "    \n",
    "    for character in string:\n",
    "        if character in count:\n",
    "            count[character]+=1\n",
    "    return count"
   ]
  },
  {
   "cell_type": "code",
   "execution_count": 7,
   "id": "ad8cf0a1",
   "metadata": {},
   "outputs": [
    {
     "data": {
      "text/plain": [
       "{'a': 1, 'e': 3, 'i': 3, 'o': 2, 'u': 1}"
      ]
     },
     "execution_count": 7,
     "metadata": {},
     "output_type": "execute_result"
    }
   ],
   "source": [
    "vowels=\"aeiou\"\n",
    "string=\"Hi, I am Student of HIT College\"\n",
    "checking_vowels(string,vowels)"
   ]
  },
  {
   "cell_type": "markdown",
   "id": "c29f5512",
   "metadata": {},
   "source": [
    "### 5)\tA python program to access each element of a string in forward and reverse orders using while loop "
   ]
  },
  {
   "cell_type": "code",
   "execution_count": 9,
   "id": "2be695e1",
   "metadata": {},
   "outputs": [
    {
     "name": "stdout",
     "output_type": "stream",
     "text": [
      "hit\n",
      "Forward order:\n",
      "h i t \n",
      "\n",
      "Reverse order:\n",
      "t i h "
     ]
    }
   ],
   "source": [
    "string = input()\n",
    "print(\"Forward order:\")\n",
    "i = 0\n",
    "while i < len(string):\n",
    "    print(string[i], end=\" \")\n",
    "    i += 1\n",
    "print(\"\\n\")\n",
    "print(\"Reverse order:\")\n",
    "i = len(string) - 1\n",
    "while i >= 0:\n",
    "    print(string[i], end=\" \")\n",
    "    i -= 1"
   ]
  },
  {
   "cell_type": "markdown",
   "id": "60d4ea3e",
   "metadata": {},
   "source": [
    "### 6)\tWrite a python program to know whether a sub- string exists in main string "
   ]
  },
  {
   "cell_type": "code",
   "execution_count": 10,
   "id": "70ab7883",
   "metadata": {},
   "outputs": [],
   "source": [
    "def check_substring(main_string, sub_string):\n",
    "    if sub_string in main_string:\n",
    "        return \"Yes, the substring exists in the main string.\"\n",
    "    else:\n",
    "        return \"No, the substring does not exist in the main string.\""
   ]
  },
  {
   "cell_type": "code",
   "execution_count": 12,
   "id": "38975731",
   "metadata": {},
   "outputs": [
    {
     "name": "stdout",
     "output_type": "stream",
     "text": [
      "Yes, the substring exists in the main string.\n"
     ]
    }
   ],
   "source": [
    "main_string = \"Haldia Institute of Technology\"\n",
    "sub_string = \"Haldia\"\n",
    "result = check_substring(main_string, sub_string)\n",
    "print(result)"
   ]
  },
  {
   "cell_type": "markdown",
   "id": "cbb2f670",
   "metadata": {},
   "source": [
    "### 7)\tA python program to find the first occurrences of sub string in a given main string  "
   ]
  },
  {
   "cell_type": "code",
   "execution_count": 17,
   "id": "ece80543",
   "metadata": {},
   "outputs": [
    {
     "name": "stdout",
     "output_type": "stream",
     "text": [
      "The first occurrence of 'world' is at index 6.\n"
     ]
    }
   ],
   "source": [
    "def find_first_occurrence(main_string, sub_string):\n",
    "    main_len = len(main_string)\n",
    "    sub_len = len(sub_string)\n",
    "\n",
    "    for i in range(main_len - sub_len + 1):\n",
    "        if main_string[i:i + sub_len] == sub_string:\n",
    "            return i\n",
    "    return -1\n",
    "\n",
    "main_string = \"hello world\"\n",
    "sub_string = \"world\"\n",
    "index = find_first_occurrence(main_string, sub_string)\n",
    "\n",
    "if index != -1:\n",
    "    print(f\"The first occurrence of '{sub_string}' is at index {index}.\")\n",
    "else:\n",
    "    print(f\"The substring '{sub_string}' was not found in the main string.\")\n"
   ]
  },
  {
   "cell_type": "markdown",
   "id": "f642c59d",
   "metadata": {},
   "source": [
    "### 8)\tA python program to insert a sub string in main string in a particular position\n",
    "### Example:- enter a string :- it is summer\n",
    "### Enter sub_string;- hot\n",
    "### Enter position no:- 7\n",
    "### Result :- It is hotsummer \n"
   ]
  },
  {
   "cell_type": "code",
   "execution_count": 18,
   "id": "3a418823",
   "metadata": {},
   "outputs": [
    {
     "name": "stdout",
     "output_type": "stream",
     "text": [
      "Enter a string: it is summer\n",
      "Enter sub_string: hot\n",
      "Enter position no: 6\n",
      "Result: it is hotsummer\n"
     ]
    }
   ],
   "source": [
    "def insert_substring(main_string, sub_string, position):\n",
    "    new_string = main_string[:position] + sub_string + main_string[position:]\n",
    "    return new_string\n",
    "\n",
    "main_string = input(\"Enter a string: \")\n",
    "sub_string = input(\"Enter sub_string: \")\n",
    "position = int(input(\"Enter position no: \"))\n",
    "\n",
    "result = insert_substring(main_string, sub_string, position)\n",
    "print(f\"Result: {result}\")"
   ]
  },
  {
   "cell_type": "markdown",
   "id": "584f0d52",
   "metadata": {},
   "source": [
    "### 9)\tGenerate an infinite Fibonacci series by using generator yield. "
   ]
  },
  {
   "cell_type": "code",
   "execution_count": 19,
   "id": "69cceaf2",
   "metadata": {},
   "outputs": [
    {
     "name": "stdout",
     "output_type": "stream",
     "text": [
      "0\n",
      "1\n",
      "1\n",
      "2\n",
      "3\n",
      "5\n",
      "8\n",
      "13\n",
      "21\n",
      "34\n"
     ]
    }
   ],
   "source": [
    "def fibonacci_generator():\n",
    "    a, b = 0, 1\n",
    "    while True:\n",
    "        yield a\n",
    "        a, b = b, a + b\n",
    "\n",
    "fib_gen = fibonacci_generator()\n",
    "\n",
    "for _ in range(10):\n",
    "    print(next(fib_gen))"
   ]
  },
  {
   "cell_type": "code",
   "execution_count": null,
   "id": "9ef9e9d0",
   "metadata": {},
   "outputs": [],
   "source": []
  }
 ],
 "metadata": {
  "kernelspec": {
   "display_name": "Python 3 (ipykernel)",
   "language": "python",
   "name": "python3"
  },
  "language_info": {
   "codemirror_mode": {
    "name": "ipython",
    "version": 3
   },
   "file_extension": ".py",
   "mimetype": "text/x-python",
   "name": "python",
   "nbconvert_exporter": "python",
   "pygments_lexer": "ipython3",
   "version": "3.10.9"
  }
 },
 "nbformat": 4,
 "nbformat_minor": 5
}
